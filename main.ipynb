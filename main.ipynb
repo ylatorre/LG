{
 "cells": [
  {
   "cell_type": "code",
   "execution_count": 363,
   "metadata": {
    "collapsed": true
   },
   "outputs": [
    {
     "output_type": "execute_result",
     "data": {
      "text/plain": [
       "'\\nInit :\\n    Nombre de joueurs\\n    Nombre de méchants/pourcentage\\n    Affecter les differents rôles\\n        Effacer le rôle précédent\\n        Montrer son rôle au joueur\\n\\nJeu :\\n    4 LG + 1 LGb\\n    13 villageois\\n    1 voyante\\n    1 voleur\\n    1 chasseur\\n    1 cupidon\\n    1 sorcière\\n    1 petite-fille\\n\\n    1ere nuit (préparation):\\n        Voleur\\n        Cupidon doit choisir 2 joueurs\\n         Les 2 amoureux\\n\\n    1er jour:\\n        Choix du maire (2votes)\\n\\n    2ème nuit (début boucle):\\n        Voyante\\n        Loug-Garou et petite-fille\\n        Loug-Garou Blanc et petite-fille\\n        Sorcière\\n\\n    2ème jour:\\n    Enonciation des morts si il y en a\\n    Vote\\n    Resolution\\n    FIn jour\\n    (fin boucle si etat 3 (villageois uniquement) ou etat 4 (LG uniquement) ou etat 5 (LGb)\\n'"
      ]
     },
     "metadata": {},
     "execution_count": 363
    }
   ],
   "source": [
    "\"\"\"\n",
    "Init :\n",
    "    Nombre de joueurs\n",
    "    Nombre de méchants/pourcentage\n",
    "    Affecter les differents rôles\n",
    "        Effacer le rôle précédent\n",
    "        Montrer son rôle au joueur\n",
    "\n",
    "Jeu :\n",
    "    4 LG + 1 LGb\n",
    "    13 villageois\n",
    "    1 voyante\n",
    "    1 voleur\n",
    "    1 chasseur\n",
    "    1 cupidon\n",
    "    1 sorcière\n",
    "    1 petite-fille\n",
    "\n",
    "    1ere nuit (préparation):\n",
    "        Voleur\n",
    "        Cupidon doit choisir 2 joueurs\n",
    "         Les 2 amoureux\n",
    "\n",
    "    1er jour:\n",
    "        Choix du maire (2votes)\n",
    "\n",
    "    2ème nuit (début boucle):\n",
    "        Voyante\n",
    "        Loug-Garou et petite-fille\n",
    "        Loug-Garou Blanc et petite-fille\n",
    "        Sorcière\n",
    "\n",
    "    2ème jour:\n",
    "    Enonciation des morts si il y en a\n",
    "    Vote\n",
    "    Resolution\n",
    "    FIn jour\n",
    "    (fin boucle si etat 3 (villageois uniquement) ou etat 4 (LG uniquement) ou etat 5 (LGb)\n",
    "\"\"\""
   ]
  },
  {
   "cell_type": "code",
   "execution_count": 364,
   "metadata": {},
   "outputs": [],
   "source": [
    "import random\n"
   ]
  },
  {
   "cell_type": "code",
   "execution_count": 365,
   "outputs": [
    {
     "output_type": "stream",
     "name": "stdout",
     "text": [
      "6 16\n"
     ]
    }
   ],
   "source": [
    "role = [\"vilagois\",\"LG\",\"Amoureux\"]\n",
    "# role_fix= {\"Chasseur\":0,\"Cupidon\":1,\"Petite_Fille\":2,\"Sorciere\":3,\"Voyante\":4}\n",
    "role_fix_liste= [\"Chasseur\",\"Cupidon\",\"Petite_Fille\",\"Sorciere\",\"Voyante\"]\n",
    "nbre_joueur = int(input(\"Entrez le Nombre de joueurs : \"))\n",
    "nbre_mechant = nbre_joueur*0.4\n",
    "nbre_mechant = int(nbre_mechant)\n",
    "print(nbre_mechant, nbre_joueur)\n"
   ],
   "metadata": {
    "collapsed": false,
    "pycharm": {
     "name": "#%%\n"
    }
   }
  },
  {
   "cell_type": "code",
   "execution_count": 366,
   "metadata": {},
   "outputs": [
    {
     "output_type": "stream",
     "name": "stdout",
     "text": [
      "nombre de 5 vilagois \n['Cupidon', 'vilagois', 'vilagois', 'Chasseur', 'Voyante', 'LG', 'vilagois', 'Sorciere', 'LG', 'LG', 'vilagois', 'LG', 'LG', 'Petite_Fille', 'LG', 'vilagois']\n16\n"
     ]
    }
   ],
   "source": [
    "i = 0\n",
    "listeJ = role_fix_liste\n",
    "\n",
    "def joueur():\n",
    "    for i in range(nbre_mechant):\n",
    "        listeJ.append('LG')\n",
    "    if nbre_joueur > 9:\n",
    "        vilagois = nbre_joueur - len(listeJ)\n",
    "        print(\"nombre de {} vilagois \".format(vilagois))\n",
    "        for i in range(vilagois):\n",
    "            listeJ.append('vilagois')\n",
    "    random.shuffle(listeJ)\n",
    "    print(listeJ)\n",
    "    print(len(listeJ))\n",
    "joueur()\n"
   ]
  },
  {
   "cell_type": "code",
   "execution_count": 367,
   "metadata": {},
   "outputs": [],
   "source": [
    "# for i in range(\n",
    "\n",
    "# )\n",
    "# joueur()\n",
    "\n",
    "\n",
    "\n",
    "# liste= []\n",
    "# for lenliste\n",
    "# del liste[x]\n",
    "# if liste = []\n",
    "# return joueur[]"
   ]
  }
 ],
 "metadata": {
  "kernelspec": {
   "display_name": "Python 3.8.1 32-bit",
   "language": "python",
   "name": "python38132bit2f9787fe8fd9491fb317227a2b94901e"
  },
  "language_info": {
   "codemirror_mode": {
    "name": "ipython",
    "version": 2
   },
   "file_extension": ".py",
   "mimetype": "text/x-python",
   "name": "python",
   "nbconvert_exporter": "python",
   "pygments_lexer": "ipython2",
   "version": "3.8.1-final"
  }
 },
 "nbformat": 4,
 "nbformat_minor": 0
}