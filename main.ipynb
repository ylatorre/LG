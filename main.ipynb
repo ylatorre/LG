{
 "cells": [
  {
   "cell_type": "code",
   "execution_count": 314,
   "metadata": {
    "collapsed": true
   },
   "outputs": [],
   "source": [
    "\n",
    "# Init :\n",
    "#     Nombre de joueurs Faisx\n",
    "#     Nombre de méchants/pourcentage Fais\n",
    "#     Affecter les differents rôles\n",
    "#         Effacer le rôle précédent\n",
    "#         Montrer son rôle au joueur\n",
    "\n",
    "# Jeu :\n",
    "#     4 LG + 1 LGb\n",
    "#     13 villageois\n",
    "#     1 voyante\n",
    "#     1 voleur\n",
    "#     1 chasseur\n",
    "#     1 cupidon\n",
    "#     1 sorcière\n",
    "#     1 petite-fille\n",
    "\n",
    "#     1ere nuit (préparation):\n",
    "#         Voleur\n",
    "#         Cupidon doit choisir 2 joueurs\n",
    "#          Les 2 amoureux\n",
    "\n",
    "#     1er jour:\n",
    "#         Choix du maire (2votes)\n",
    "\n",
    "#     2ème nuit (début boucle):\n",
    "#         Voyante\n",
    "#         Loug-Garou et petite-fille\n",
    "#         Loug-Garou Blanc et petite-fille\n",
    "#         Sorcière\n",
    "\n",
    "#     2ème jour:\n",
    "#     Enonciation des morts si il y en a\n",
    "#     Vote\n",
    "#     Resolution\n",
    "#     FIn jour\n",
    "#     (fin boucle si etat 3 (villageois uniquement) ou etat 4 (LG uniquement) ou etat 5 (LGb)\n"
   ]
  },
  {
   "cell_type": "code",
   "execution_count": 315,
   "metadata": {},
   "outputs": [],
   "source": [
    "import random\n",
    "from clear_screen import clear\n",
    "import time"
   ]
  },
  {
   "cell_type": "code",
   "execution_count": 316,
   "outputs": [
    {
     "output_type": "stream",
     "name": "stdout",
     "text": [
      "4 12\n"
     ]
    }
   ],
   "source": [
    "role_fix= [\"Chasseur\",\"Cupidon\",\"Petite_Fille\",\"Sorciere\",\"Voyante\"]\n",
    "\n",
    "\n",
    "nbre_joueur = int(input(\"Entrez le Nombre de joueurs : \"))\n",
    "nbre_mechant = nbre_joueur*0.4\n",
    "nbre_mechant = int(nbre_mechant)\n",
    "print(nbre_mechant, nbre_joueur)\n"
   ],
   "metadata": {
    "collapsed": false,
    "pycharm": {
     "name": "#%%\n"
    }
   }
  },
  {
   "cell_type": "code",
   "execution_count": 317,
   "metadata": {},
   "outputs": [
    {
     "output_type": "stream",
     "name": "stdout",
     "text": [
      "nombre de 3 vilagois \n['LG3', 'Voyante', 'vilagois1', 'Petite_Fille', 'LG4', 'Sorciere', 'vilagois2', 'LG2', 'LG1', 'Chasseur', 'vilagois3', 'Cupidon']\n12\n"
     ]
    }
   ],
   "source": [
    "i = 0\n",
    "listeJ = [\"Chasseur\",\"Cupidon\",\"Petite_Fille\",\"Sorciere\",\"Voyante\"]\n",
    "def joueur():\n",
    "    for i in range(nbre_mechant):\n",
    "        listeJ.append('LG{}'.format(i+1))\n",
    "    if nbre_joueur > 9:\n",
    "        vilagois = nbre_joueur - len(listeJ)\n",
    "        print(\"nombre de {} vilagois \".format(vilagois))\n",
    "        for i in range(vilagois):\n",
    "            listeJ.append('vilagois{}'.format(i+1))\n",
    "    random.shuffle(listeJ)\n",
    "    print(listeJ)\n",
    "    print(len(listeJ))\n",
    "    return listeJ\n",
    "joueur()\n",
    "wait = input(\"Press Enter to continue.\")\n",
    "clear()\n"
   ]
  },
  {
   "cell_type": "code",
   "execution_count": 318,
   "metadata": {},
   "outputs": [
    {
     "output_type": "stream",
     "name": "stdout",
     "text": [
      "ton role est : LG3 et ton numero est le 1\n",
      "ton role est : Voyante et ton numero est le 2\n",
      "ton role est : vilagois1 et ton numero est le 3\n",
      "ton role est : Petite_Fille et ton numero est le 4\n",
      "ton role est : LG4 et ton numero est le 5\n",
      "ton role est : Sorciere et ton numero est le 6\n",
      "ton role est : vilagois2 et ton numero est le 7\n",
      "ton role est : LG2 et ton numero est le 8\n",
      "ton role est : LG1 et ton numero est le 9\n",
      "ton role est : Chasseur et ton numero est le 10\n",
      "ton role est : vilagois3 et ton numero est le 11\n",
      "ton role est : Cupidon et ton numero est le 12\n"
     ]
    }
   ],
   "source": [
    "i = 0\n",
    "for i in range(nbre_joueur):\n",
    "    print(\"ton role est : {} et ton numero est le {}\".format(listeJ[i], i+1))\n",
    "    wait = input(\"Press Enter to continue.\")\n",
    "    clear()\n"
   ]
  },
  {
   "cell_type": "code",
   "execution_count": 319,
   "metadata": {},
   "outputs": [
    {
     "output_type": "stream",
     "name": "stdout",
     "text": [
      "Les LG sont : [1, 5, 8, 9]\n"
     ]
    }
   ],
   "source": [
    "Equipe_LG = []\n",
    "for i in range(nbre_mechant):\n",
    "    Equipe_LG.append(listeJ.index(\"LG{}\".format(i+1))+1)\n",
    "Equipe_LG.sort()\n",
    "print('Les LG sont :',Equipe_LG)"
   ]
  },
  {
   "cell_type": "code",
   "execution_count": 320,
   "metadata": {},
   "outputs": [
    {
     "output_type": "stream",
     "name": "stdout",
     "text": [
      "Les villagois sont : [3, 7, 11]\n"
     ]
    }
   ],
   "source": [
    "vilagois = nbre_joueur - len(role_fix)-nbre_mechant\n",
    "Equipe_Villagois = []\n",
    "for i in range(vilagois):\n",
    "    Equipe_Villagois.append(listeJ.index(\"vilagois{}\".format(i+1))+1)\n",
    "Equipe_Villagois.sort()\n",
    "print('Les villagois sont :',Equipe_Villagois)"
   ]
  },
  {
   "cell_type": "code",
   "execution_count": 321,
   "metadata": {},
   "outputs": [
    {
     "output_type": "stream",
     "name": "stdout",
     "text": [
      "['LG3', 'Voyante', 'vilagois1', 'Petite_Fille', 'LG4', 'Sorciere', 'vilagois2', 'LG2', 'LG1', 'Chasseur', 'vilagois3', 'Cupidon']\nDebut de la 1er nuit, le village s'endors.\n"
     ]
    }
   ],
   "source": [
    "print(listeJ)\n",
    "print(\"Debut de la 1er nuit, le village s'endors.\")\n",
    "\n"
   ]
  },
  {
   "cell_type": "code",
   "execution_count": 322,
   "metadata": {},
   "outputs": [
    {
     "output_type": "stream",
     "name": "stdout",
     "text": [
      "Les amoureux sont : ['1', '2', 12]\nFin de la 1er nuit\n"
     ]
    }
   ],
   "source": [
    "amoureux = input(\"Cupidon designe 2 joueurs :\").split()\n",
    "amoureux.append(listeJ.index('Cupidon')+1)\n",
    "while len(amoureux) != 3:\n",
    "     amoureux = input(\"Erreur Cupidon designe 2 joueurs :\").split()\n",
    "     amoureux.append(listeJ.index('Cupidon')+1)\n",
    "print(\"Les amoureux sont :\",amoureux)\n",
    "print('Fin de la 1er nuit')"
   ]
  },
  {
   "cell_type": "code",
   "execution_count": 323,
   "metadata": {},
   "outputs": [
    {
     "output_type": "stream",
     "name": "stdout",
     "text": [
      "Debut de la 1er journee\n"
     ]
    }
   ],
   "source": [
    "print('Debut de la 1er journee')"
   ]
  }
 ],
 "metadata": {
  "kernelspec": {
   "name": "python3",
   "display_name": "Python 3.8.3 32-bit",
   "metadata": {
    "interpreter": {
     "hash": "acb5b58a6f617a7dad5144b57eca134e4b19757151cc2d1ca83e9dfc6e65f320"
    }
   }
  },
  "language_info": {
   "codemirror_mode": {
    "name": "ipython",
    "version": 2
   },
   "file_extension": ".py",
   "mimetype": "text/x-python",
   "name": "python",
   "nbconvert_exporter": "python",
   "pygments_lexer": "ipython2",
   "version": "3.8.3-final"
  }
 },
 "nbformat": 4,
 "nbformat_minor": 0
}