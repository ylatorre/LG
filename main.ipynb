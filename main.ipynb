{
 "cells": [
  {
   "cell_type": "code",
   "execution_count": 32,
   "metadata": {
    "collapsed": true
   },
   "outputs": [],
   "source": [
    "\n",
    "# Init :\n",
    "#     Nombre de joueurs Faisx\n",
    "#     Nombre de méchants/pourcentage Fais\n",
    "#     Affecter les differents rôles\n",
    "#         Effacer le rôle précédent\n",
    "#         Montrer son rôle au joueur\n",
    "\n",
    "# Jeu :\n",
    "#     4 LG + 1 LGb\n",
    "#     13 villageois\n",
    "#     1 voyante\n",
    "#     1 voleur\n",
    "#     1 chasseur\n",
    "#     1 cupidon\n",
    "#     1 sorcière\n",
    "#     1 petite-fille\n",
    "\n",
    "#     1ere nuit (préparation):\n",
    "#         Voleur\n",
    "#         Cupidon doit choisir 2 joueurs\n",
    "#          Les 2 amoureux\n",
    "\n",
    "#     1er jour:\n",
    "#         Choix du maire (2votes)\n",
    "\n",
    "#     2ème nuit (début boucle):\n",
    "#         Voyante\n",
    "#         Loug-Garou et petite-fille\n",
    "#         Loug-Garou Blanc et petite-fille\n",
    "#         Sorcière\n",
    "\n",
    "#     2ème jour:\n",
    "#     Enonciation des morts si il y en a\n",
    "#     Vote\n",
    "#     Resolution\n",
    "#     FIn jour\n",
    "#     (fin boucle si etat 3 (villageois uniquement) ou etat 4 (LG uniquement) ou etat 5 (LGb)\n"
   ]
  },
  {
   "cell_type": "code",
   "execution_count": 33,
   "metadata": {},
   "outputs": [],
   "source": [
    "import random\n",
    "from clear_screen import clear\n",
    "import time"
   ]
  },
  {
   "cell_type": "code",
   "execution_count": 34,
   "outputs": [
    {
     "output_type": "stream",
     "name": "stdout",
     "text": [
      "4 12\n"
     ]
    }
   ],
   "source": [
    "role_fix= [\"Chasseur\",\"Cupidon\",\"Petite_Fille\",\"Sorciere\",\"Voyante\"]\n",
    "role_a_affecter = [\"Amoureux\"] #A affecter en jeu\n",
    "\n",
    "nbre_joueur = int(input(\"Entrez le Nombre de joueurs : \"))\n",
    "nbre_mechant = nbre_joueur*0.4\n",
    "nbre_mechant = int(nbre_mechant)\n",
    "print(nbre_mechant, nbre_joueur)\n"
   ],
   "metadata": {
    "collapsed": false,
    "pycharm": {
     "name": "#%%\n"
    }
   }
  },
  {
   "cell_type": "code",
   "execution_count": 35,
   "metadata": {},
   "outputs": [
    {
     "output_type": "stream",
     "name": "stdout",
     "text": [
      "nombre de 3 vilagois \n['vilagois', 'LG', 'vilagois', 'Petite_Fille', 'LG', 'LG', 'Chasseur', 'Voyante', 'Sorciere', 'LG', 'Cupidon', 'vilagois']\n12\n"
     ]
    }
   ],
   "source": [
    "i = 0\n",
    "listeJ = role_fix\n",
    "def joueur():\n",
    "    for i in range(nbre_mechant):\n",
    "        listeJ.append('LG')\n",
    "    if nbre_joueur > 9:\n",
    "        vilagois = nbre_joueur - len(listeJ)\n",
    "        print(\"nombre de {} vilagois \".format(vilagois))\n",
    "        for i in range(vilagois):\n",
    "            listeJ.append('vilagois')\n",
    "    random.shuffle(listeJ)\n",
    "    print(listeJ)\n",
    "    print(len(listeJ))\n",
    "    return listeJ\n",
    "joueur()\n",
    "clear()\n"
   ]
  },
  {
   "cell_type": "code",
   "execution_count": 36,
   "metadata": {},
   "outputs": [
    {
     "output_type": "stream",
     "name": "stdout",
     "text": [
      "ton role est : vilagois\n",
      "ton role est : LG\n",
      "ton role est : vilagois\n",
      "ton role est : Petite_Fille\n",
      "ton role est : LG\n",
      "ton role est : LG\n",
      "ton role est : Chasseur\n",
      "ton role est : Voyante\n",
      "ton role est : Sorciere\n",
      "ton role est : LG\n",
      "ton role est : Cupidon\n",
      "ton role est : vilagois\n"
     ]
    }
   ],
   "source": [
    "i = 0\n",
    "for i in range(nbre_joueur):\n",
    "    print(\"ton role est : {}\".format(listeJ[i]))\n",
    "    wait = input(\"Press Enter to continue.\")\n",
    "    clear()\n"
   ]
  },
  {
   "cell_type": "code",
   "execution_count": null,
   "metadata": {},
   "outputs": [],
   "source": []
  }
 ],
 "metadata": {
  "kernelspec": {
   "display_name": "Python 3.8.1 32-bit",
   "language": "python",
   "name": "python38132bit2f9787fe8fd9491fb317227a2b94901e"
  },
  "language_info": {
   "codemirror_mode": {
    "name": "ipython",
    "version": 2
   },
   "file_extension": ".py",
   "mimetype": "text/x-python",
   "name": "python",
   "nbconvert_exporter": "python",
   "pygments_lexer": "ipython2",
   "version": "3.8.1-final"
  }
 },
 "nbformat": 4,
 "nbformat_minor": 0
}