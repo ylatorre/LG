{
 "cells": [
  {
   "cell_type": "code",
   "execution_count": null,
   "metadata": {
    "collapsed": true
   },
   "outputs": [],
   "source": [
    "\"\"\"\n",
    "Init :\n",
    "    Nombre de joueurs\n",
    "    Nombre de méchants/pourcentage\n",
    "    Affecter les differents rôles\n",
    "        Effacer le rôle précédent\n",
    "        Montrer son rôle au joueur\n",
    "\n",
    "Jeu :\n",
    "    4 LG + 1 LGb\n",
    "    13 villageois\n",
    "    1 voyante\n",
    "    1 voleur\n",
    "    1 chasseur\n",
    "    1 cupidon\n",
    "    1 sorcière\n",
    "    1 petite-fille\n",
    "\n",
    "    1ere nuit (préparation):\n",
    "        Voleur\n",
    "        Cupidon doit choisir 2 joueurs\n",
    "         Les 2 amoureux\n",
    "\n",
    "    1er jour:\n",
    "        Choix du maire (2votes)\n",
    "\n",
    "    2ème nuit (début boucle):\n",
    "        Voyante\n",
    "        Loug-Garou et petite-fille\n",
    "        Loug-Garou Blanc et petite-fille\n",
    "        Sorcière\n",
    "\n",
    "    2ème jour:\n",
    "    Enonciation des morts si il y en a\n",
    "    Vote\n",
    "    Resolution\n",
    "    FIn jour\n",
    "    (fin boucle si etat 3 (villageois uniquement) ou etat 4 (LG uniquement) ou etat 5 (LGb)\n",
    "\"\"\""
   ]
  },
  {
   "cell_type": "code",
   "execution_count": 36,
   "metadata": {},
   "outputs": [],
   "source": [
    "import random\n"
   ]
  },
  {
   "cell_type": "code",
   "execution_count": 83,
   "outputs": [
    {
     "output_type": "stream",
     "name": "stdout",
     "text": [
      "3 8\n"
     ]
    }
   ],
   "source": [
    "role = [\"vilagois\",\"LG\",\"Amoureux\"]\n",
    "role_fix= {\"Chasseur\":0,\"Cupidon\":1,\"Petite_Fille\":2,\"Sorciere\":3,\"Voyante\":4}\n",
    "nbre_joueur = int(input(\"Entrez le Nombre de joueurs : \"))\n",
    "nbre_mechant = nbre_joueur*0.4\n",
    "nbre_mechant = int(nbre_mechant)\n",
    "print(nbre_mechant, nbre_joueur)\n"
   ],
   "metadata": {
    "collapsed": false,
    "pycharm": {
     "name": "#%%\n"
    }
   }
  },
  {
   "cell_type": "code",
   "execution_count": 108,
   "metadata": {},
   "outputs": [
    {
     "output_type": "stream",
     "name": "stdout",
     "text": [
      "Chasseur 2\n[2]\nCupidon 2\n[2, 2]\nPetite_Fille 2\n[2, 2, 2]\nSorciere 0\n[2, 2, 2, 0]\nVoyante 5\n[2, 2, 2, 0, 5]\n"
     ]
    }
   ],
   "source": [
    "joueur_liste= {} \n",
    "y = []\n",
    "role_fix_bis = role_fix\n",
    "def joueur():\n",
    "\n",
    "    # print(role_fix_bis.keys())\n",
    "    \n",
    "    # x = random.randint(0,len(role_fix_bis))\n",
    "    # print(role_fix_bis.keys())\n",
    "\n",
    "    for valeur in role_fix_bis.keys():\n",
    "        x = random.randint(0,len(role_fix_bis))\n",
    "        print(valeur,x)\n",
    "        y.append(x)\n",
    "        print(y)\n",
    "\n",
    "joueur()"
   ]
  },
  {
   "cell_type": "code",
   "execution_count": null,
   "metadata": {},
   "outputs": [],
   "source": [
    "# >>> a.has_key(\"nom\")\n",
    "# i = 0\n",
    "# for i in range(i,nbre_joueur):\n",
    "#     print(i+1)\n",
    "#     liste = []\n",
    "#     joueurs = []\n",
    "#     if joueurs == :\n",
    "#         print(role_fix.values())\n",
    "        \n",
    "\n",
    "\n",
    "#         # joueurs.append()\n",
    "            \n",
    "\n",
    "#         # x = random.randint(0,len(role_fix))\n",
    "#         # print('x',random.randint(0,10))\n",
    "\n",
    "#     i = i + 1"
   ]
  },
  {
   "cell_type": "code",
   "execution_count": null,
   "metadata": {},
   "outputs": [],
   "source": [
    "for i in range(\n",
    "\n",
    ")\n",
    "joueur()\n",
    "\n",
    "\n",
    "\n",
    "liste= []\n",
    "for lenliste\n",
    "del liste[x]\n",
    "if liste = []\n",
    "return joueur[]"
   ]
  }
 ],
 "metadata": {
  "kernelspec": {
   "display_name": "Python 3.8.1 32-bit",
   "language": "python",
   "name": "python38132bit2f9787fe8fd9491fb317227a2b94901e"
  },
  "language_info": {
   "codemirror_mode": {
    "name": "ipython",
    "version": 2
   },
   "file_extension": ".py",
   "mimetype": "text/x-python",
   "name": "python",
   "nbconvert_exporter": "python",
   "pygments_lexer": "ipython2",
   "version": "3.8.1-final"
  }
 },
 "nbformat": 4,
 "nbformat_minor": 0
}