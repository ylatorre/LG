{
 "cells": [
  {
   "cell_type": "code",
   "execution_count": 3,
   "metadata": {
    "collapsed": true
   },
   "outputs": [],
   "source": [
    "\n",
    "# Init :\n",
    "#     Nombre de joueurs Faisx\n",
    "#     Nombre de méchants/pourcentage Fais\n",
    "#     Affecter les differents rôles\n",
    "#         Effacer le rôle précédent\n",
    "#         Montrer son rôle au joueur\n",
    "\n",
    "# Jeu :\n",
    "#     4 LG + 1 LGb\n",
    "#     13 villageois\n",
    "#     1 voyante\n",
    "#     1 voleur\n",
    "#     1 chasseur\n",
    "#     1 cupidon\n",
    "#     1 sorcière\n",
    "#     1 petite-fille\n",
    "\n",
    "#     1ere nuit (préparation):\n",
    "#         Voleur\n",
    "#         Cupidon doit choisir 2 joueurs\n",
    "#          Les 2 amoureux\n",
    "\n",
    "#     1er jour:\n",
    "#         Choix du maire (2votes)\n",
    "\n",
    "#     2ème nuit (début boucle):\n",
    "#         Voyante\n",
    "#         Loug-Garou et petite-fille\n",
    "#         Loug-Garou Blanc et petite-fille\n",
    "#         Sorcière\n",
    "\n",
    "#     2ème jour:\n",
    "#     Enonciation des morts si il y en a\n",
    "#     Vote\n",
    "#     Resolution\n",
    "#     FIn jour\n",
    "#     (fin boucle si etat 3 (villageois uniquement) ou etat 4 (LG uniquement) ou etat 5 (LGb)\n"
   ]
  },
  {
   "cell_type": "code",
   "execution_count": 4,
   "metadata": {},
   "outputs": [],
   "source": [
    "import random\n",
    "from clear_screen import clear\n",
    "import time"
   ]
  },
  {
   "cell_type": "code",
   "execution_count": 5,
   "outputs": [
    {
     "output_type": "stream",
     "name": "stdout",
     "text": [
      "4 12\n"
     ]
    }
   ],
   "source": [
    "role_fix = [\"Chasseur\", \"Cupidon\", \"Petite_Fille\", \"Sorciere\", \"Voyante\"]\n",
    "\n",
    "nbre_joueur = int(input(\"Entrez le Nombre de joueurs : \"))\n",
    "nbre_mechant = nbre_joueur*0.4\n",
    "nbre_mechant = int(nbre_mechant)\n",
    "print(nbre_mechant, nbre_joueur)"
   ],
   "metadata": {
    "collapsed": false,
    "pycharm": {
     "name": "#%%\n"
    }
   }
  },
  {
   "cell_type": "code",
   "execution_count": 6,
   "metadata": {},
   "outputs": [
    {
     "output_type": "stream",
     "name": "stdout",
     "text": [
      "nombre de 3 villageois \n['villageois3', 'LG2', 'Voyante', 'Chasseur', 'Petite_Fille', 'Cupidon', 'villageois1', 'villageois2', 'LG3', 'Sorciere', 'LG1', 'LG4']\n12\n"
     ]
    }
   ],
   "source": [
    "i = 0\n",
    "listeJ = [\"Chasseur\", \"Cupidon\", \"Petite_Fille\", \"Sorciere\", \"Voyante\"]\n",
    "\n",
    "\n",
    "def joueur():\n",
    "    for i in range(nbre_mechant):\n",
    "        listeJ.append('LG{}'.format(i+1))\n",
    "    if nbre_joueur > 9:\n",
    "        villageois = nbre_joueur - len(listeJ)\n",
    "        print(\"nombre de {} villageois \".format(villageois))\n",
    "        for i in range(villageois):\n",
    "            listeJ.append('villageois{}'.format(i+1))\n",
    "    random.shuffle(listeJ)\n",
    "    print(listeJ)\n",
    "    print(len(listeJ))\n",
    "    return listeJ\n",
    "\n",
    "\n",
    "joueur()\n",
    "wait = input(\"Press Enter to continue.\")\n",
    "clear()\n"
   ]
  },
  {
   "cell_type": "code",
   "execution_count": 7,
   "metadata": {},
   "outputs": [
    {
     "output_type": "stream",
     "name": "stdout",
     "text": [
      "ton role est : villageois3 et ton numero est le 1\n",
      "ton role est : LG2 et ton numero est le 2\n",
      "ton role est : Voyante et ton numero est le 3\n",
      "ton role est : Chasseur et ton numero est le 4\n",
      "ton role est : Petite_Fille et ton numero est le 5\n",
      "ton role est : Cupidon et ton numero est le 6\n",
      "ton role est : villageois1 et ton numero est le 7\n",
      "ton role est : villageois2 et ton numero est le 8\n",
      "ton role est : LG3 et ton numero est le 9\n",
      "ton role est : Sorciere et ton numero est le 10\n",
      "ton role est : LG1 et ton numero est le 11\n",
      "ton role est : LG4 et ton numero est le 12\n"
     ]
    }
   ],
   "source": [
    "i = 0\n",
    "for i in range(nbre_joueur):\n",
    "    print(\"ton role est : {} et ton numero est le {}\".format(listeJ[i], i+1))\n",
    "    wait = input(\"Press Enter to continue.\")\n",
    "    clear()"
   ]
  },
  {
   "cell_type": "code",
   "execution_count": 8,
   "metadata": {},
   "outputs": [
    {
     "output_type": "stream",
     "name": "stdout",
     "text": [
      "Les LG sont : [2, 9, 11, 12]\n"
     ]
    }
   ],
   "source": [
    "Equipe_LG = []\n",
    "for i in range(nbre_mechant):\n",
    "    Equipe_LG.append(listeJ.index(\"LG{}\".format(i+1))+1)\n",
    "Equipe_LG.sort()\n",
    "print('Les LG sont :', Equipe_LG)"
   ]
  },
  {
   "cell_type": "code",
   "execution_count": 9,
   "metadata": {},
   "outputs": [
    {
     "output_type": "stream",
     "name": "stdout",
     "text": [
      "Les villagois sont : [1, 7, 8]\n"
     ]
    }
   ],
   "source": [
    "villageois = nbre_joueur - len(role_fix)-nbre_mechant\n",
    "Equipe_Villagois = []\n",
    "for i in range(villageois):\n",
    "    Equipe_Villagois.append(listeJ.index(\"villageois{}\".format(i+1))+1)\n",
    "Equipe_Villagois.sort()\n",
    "print('Les villagois sont :', Equipe_Villagois)"
   ]
  },
  {
   "cell_type": "code",
   "execution_count": 10,
   "metadata": {},
   "outputs": [
    {
     "output_type": "stream",
     "name": "stdout",
     "text": [
      "['villageois3', 'LG2', 'Voyante', 'Chasseur', 'Petite_Fille', 'Cupidon', 'villageois1', 'villageois2', 'LG3', 'Sorciere', 'LG1', 'LG4']\nDebut de la 1er nuit, le village s'endors.\n"
     ]
    }
   ],
   "source": [
    "print(listeJ)\n",
    "print(\"Debut de la 1er nuit, le village s'endors.\")\n",
    "\n"
   ]
  },
  {
   "cell_type": "code",
   "execution_count": 11,
   "metadata": {},
   "outputs": [],
   "source": [
    "# amoureux = input(\"Cupidon designe 2 joueurs :\").split()\n",
    "# amoureux.append(listeJ.index('Cupidon')+1)\n",
    "# while len(amoureux) != 3 and listeJ.index('Cupidon')+1 != int(amoureux.index(listeJ.index('Cupidon')+1)):\n",
    "#      amoureux = input(\"Erreur Cupidon designe 2 joueurs :\").split()\n",
    "\n",
    "#      amoureux.append(listeJ.index('Cupidon')+1)\n",
    "     \n",
    "# print(\"Les amoureux sont :\", amoureux)\n",
    "\n",
    "# print(listeJ.index('Cupidon')+1)\n",
    "# print(int(amoureux.index(listeJ.index('Cupidon')+1)))\n",
    "# print(amoureux[0:2])\n",
    "# print(listeJ.index('Cupidon')+1 != int(amoureux.index(listeJ.index('Cupidon')+1)))"
   ]
  },
  {
   "source": [
    "# amoureux_uniq = ['300','300']\n",
    "# # amoureux_uniq = input(\"Cupidon designe 2 joueurs :\").split()\n",
    "# erreur = ''\n",
    "# while int(amoureux_uniq[0]) != int(listeJ.index('Cupidon')+1) :\n",
    "#     amoureux_uniq = []\n",
    "#     amoureux_uniq = input(\"{} Cupidon designe 2 joueurs :\".format(erreur)).split()\n",
    "#     erreur = \"erreur\"\n",
    "#     amoureux_uniq.append(listeJ.index('Cupidon')+1)\n",
    "\n",
    "\n",
    "# # print(amoureux_uniq.index(str(listeJ.index('Cupidon')+1)) != 9)\n",
    "# # print(int(amoureux_uniq[0]) != listeJ.index('Cupidon')+1 and int(amoureux_uniq[1]) != listeJ.index('Cupidon')+1)\n",
    "# print(listeJ.index('Cupidon')+1)\n",
    "# # print(amoureux_uniq)\n",
    "# # amoureux_uniq.append(listeJ.index('Cupidon')+1)\n",
    "\n",
    "\n",
    "# # amoureux_uniq.pop()\n",
    "\n",
    "\n",
    "     \n",
    "# # amoureux_cupidon = listeJ.index(\"Cupidon\")+1\n",
    "# # amoureux_uniq.append(amoureux_cupidon)\n",
    "# print(\"Les amoureux sont :\", amoureux_uniq)\n",
    "# # print(amoureux_cupidon[0],amoureux_uniq,amoureux,listeJ.index(\"Cupidon\")+1)\n",
    "# print(int(amoureux_uniq[0]) != int(listeJ.index('Cupidon')))"
   ],
   "cell_type": "code",
   "metadata": {},
   "execution_count": 12,
   "outputs": []
  },
  {
   "source": [
    "def couple():\n",
    "    couple1 = int(input(\"Couple numero 1 : \"))\n",
    "    couple2 = int(input(\"Couple numero 2 : \"))\n",
    "    if couple1 == int(listeJ.index(\"Cupidon\")+1) or couple2 == int(listeJ.index(\"Cupidon\")+1) or couple1 == couple2:\n",
    "        print(\"erreur \")\n",
    "        couple()\n",
    "    else:\n",
    "        print(\"Les amoureux sont : {} et {}\".format(listeJ[(couple1)-1], listeJ[(couple2)-1]))\n",
    "        equipe_cupidon = [listeJ.index('Cupidon')+1,(couple1),(couple2)]\n",
    "        equipe_cupidon.sort()\n",
    "        print(equipe_cupidon)\n",
    "        return couple1, couple2\n",
    "\n",
    "\n",
    "couple()"
   ],
   "cell_type": "code",
   "metadata": {
    "tags": []
   },
   "execution_count": 41,
   "outputs": [
    {
     "output_type": "stream",
     "name": "stdout",
     "text": [
      "Les amoureux sont : LG4 et villageois3\n[1, 6, 12]\n"
     ]
    },
    {
     "output_type": "execute_result",
     "data": {
      "text/plain": [
       "(12, 1)"
      ]
     },
     "metadata": {},
     "execution_count": 41
    }
   ]
  },
  {
   "cell_type": "code",
   "execution_count": 39,
   "metadata": {},
   "outputs": [
    {
     "output_type": "stream",
     "name": "stdout",
     "text": [
      "['villageois3', 'LG2', 'Voyante', 'Chasseur', 'Petite_Fille', 'Cupidon', 'villageois1', 'villageois2', 'LG3', 'Sorciere', 'LG1', 'LG4']\nDebut de la 1er journee\n"
     ]
    }
   ],
   "source": [
    "print(listeJ)\n",
    "print('Debut de la 1er journee')"
   ]
  },
  {
   "cell_type": "code",
   "execution_count": null,
   "metadata": {},
   "outputs": [],
   "source": []
  }
 ],
 "metadata": {
  "kernelspec": {
   "name": "python3",
   "display_name": "Python 3",
   "language": "python"
  },
  "language_info": {
   "codemirror_mode": {
    "name": "ipython",
    "version": 2
   },
   "file_extension": ".py",
   "mimetype": "text/x-python",
   "name": "python",
   "nbconvert_exporter": "python",
   "pygments_lexer": "ipython2",
   "version": "3.8.3-final"
  }
 },
 "nbformat": 4,
 "nbformat_minor": 0
}