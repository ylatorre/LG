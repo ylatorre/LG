{
 "cells": [
  {
   "cell_type": "code",
   "execution_count": null,
   "metadata": {
    "collapsed": true
   },
   "outputs": [],
   "source": [
    "\"\"\"\n",
    "Init :\n",
    "    Nombre de joueurs\n",
    "    Nombre de méchants/pourcentage\n",
    "    Affecter les differents rôles\n",
    "        Effacer le rôle précédent\n",
    "        Montrer son rôle au joueur\n",
    "\n",
    "Jeu :\n",
    "    4 LG + 1 LGb\n",
    "    13 villageois\n",
    "    1 voyante\n",
    "    1 voleur\n",
    "    1 chasseur\n",
    "    1 cupidon\n",
    "    1 sorcière\n",
    "    1 petite-fille\n",
    "\n",
    "    1ere nuit (préparation):\n",
    "        Voleur\n",
    "        Cupidon doit choisir 2 joueurs\n",
    "         Les 2 amoureux\n",
    "\n",
    "    1er jour:\n",
    "        Choix du maire (2votes)\n",
    "\n",
    "    2ème nuit (début boucle):\n",
    "        Voyante\n",
    "        Loug-Garou et petite-fille\n",
    "        Loug-Garou Blanc et petite-fille\n",
    "        Sorcière\n",
    "\n",
    "    2ème jour:\n",
    "    Enonciation des morts si il y en a\n",
    "    Vote\n",
    "    Resolution\n",
    "    FIn jour\n",
    "    (fin boucle si etat 3 (villageois uniquement) ou etat 4 (LG uniquement) ou etat 5 (LGb)\n",
    "\"\"\""
   ]
  },
  {
   "cell_type": "code",
   "execution_count": null,
   "outputs": [],
   "source": [
    "nbre_joueur = int(input(\"Entrez le Nombre de joueurs : \"))\n",
    "nbre_mechant = nbre_joueur*0.3\n",
    "nbre_mechant = int(nbre_mechant)\n",
    "print(nbre_mechant, nbre_joueur)\n"
   ],
   "metadata": {
    "collapsed": false,
    "pycharm": {
     "name": "#%%\n"
    }
   }
  }
 ],
 "metadata": {
  "kernelspec": {
   "display_name": "Python 3",
   "language": "python",
   "name": "python3"
  },
  "language_info": {
   "codemirror_mode": {
    "name": "ipython",
    "version": 2
   },
   "file_extension": ".py",
   "mimetype": "text/x-python",
   "name": "python",
   "nbconvert_exporter": "python",
   "pygments_lexer": "ipython2",
   "version": "2.7.6"
  }
 },
 "nbformat": 4,
 "nbformat_minor": 0
}